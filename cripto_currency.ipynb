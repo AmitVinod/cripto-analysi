{
 "cells": [
  {
   "cell_type": "code",
   "execution_count": 3,
   "metadata": {},
   "outputs": [],
   "source": [
    "#!pip install selenium"
   ]
  },
  {
   "cell_type": "code",
   "execution_count": 1,
   "metadata": {},
   "outputs": [],
   "source": [
    "from selenium import webdriver\n",
    "from time import sleep\n",
    "from bs4 import BeautifulSoup, Comment\n",
    "import pandas as pd"
   ]
  },
  {
   "cell_type": "code",
   "execution_count": 2,
   "metadata": {},
   "outputs": [],
   "source": [
    "\n",
    "# declare all the variables to store the data\n",
    "names = []\n",
    "star_texts = []\n",
    "star_numbers = []\n",
    "review_dates = []\n",
    "helpful_counts = []\n",
    "review_texts = []\n",
    "review = ''"
   ]
  },
  {
   "cell_type": "code",
   "execution_count": 15,
   "metadata": {},
   "outputs": [],
   "source": [
    "# chromedriver url link\n",
    "#driver=webdriver.Chrome(r'C:\\Users\\kiran kumar\\Documents\\Python\\WebScrapping\\chromedriver.exe')"
   ]
  },
  {
   "cell_type": "code",
   "execution_count": 16,
   "metadata": {},
   "outputs": [],
   "source": [
    "#!pip install webdriver-manager --user"
   ]
  },
  {
   "cell_type": "code",
   "execution_count": 2,
   "metadata": {},
   "outputs": [
    {
     "name": "stderr",
     "output_type": "stream",
     "text": [
      "\n",
      "\n",
      "====== WebDriver manager ======\n",
      "Current google-chrome version is 100.0.4896\n",
      "Get LATEST chromedriver version for 100.0.4896 google-chrome\n",
      "Trying to download new driver from https://chromedriver.storage.googleapis.com/100.0.4896.60/chromedriver_win32.zip\n",
      "Driver has been saved in cache [C:\\Users\\DELL\\.wdm\\drivers\\chromedriver\\win32\\100.0.4896.60]\n",
      "C:\\Users\\DELL\\AppData\\Local\\Temp/ipykernel_3280/2160715986.py:4: DeprecationWarning: executable_path has been deprecated, please pass in a Service object\n",
      "  driver = webdriver.Chrome(ChromeDriverManager().install())\n"
     ]
    }
   ],
   "source": [
    "from selenium import webdriver\n",
    "from webdriver_manager.chrome import ChromeDriverManager\n",
    "\n",
    "driver = webdriver.Chrome(ChromeDriverManager().install())"
   ]
  },
  {
   "cell_type": "code",
   "execution_count": 3,
   "metadata": {},
   "outputs": [],
   "source": [
    "# luanch a chrome instance\n",
    "#driver=webdriver.Chrome(r'C:\\Users\\kiran kumar\\chromedriver_win32\\chromedriver.exe')\n",
    "link = 'https://www.coingecko.com/'\n",
    "driver.get(link)\n",
    "driver.maximize_window() # maximize the window\n",
    "sleep(2) # wait for the page to load"
   ]
  },
  {
   "cell_type": "code",
   "execution_count": 4,
   "metadata": {},
   "outputs": [],
   "source": [
    "# Load the HTML of the page\n",
    "html = driver.page_source\n",
    "soup = BeautifulSoup(html, \"html.parser\")"
   ]
  },
  {
   "cell_type": "code",
   "execution_count": 9,
   "metadata": {},
   "outputs": [],
   "source": [
    "coins = []\n",
    "for i in soup.find_all('a', class_='d-lg-none font-bold tw-w-12'):\n",
    "    coins.append(i['href'].split('/')[-1])# Find all the block of each review\n",
    "\n"
   ]
  },
  {
   "cell_type": "code",
   "execution_count": 10,
   "metadata": {},
   "outputs": [
    {
     "data": {
      "text/plain": [
       "['bitcoin',\n",
       " 'ethereum',\n",
       " 'tether',\n",
       " 'bnb',\n",
       " 'usd-coin',\n",
       " 'solana',\n",
       " 'xrp',\n",
       " 'terra-luna',\n",
       " 'cardano',\n",
       " 'dogecoin',\n",
       " 'polkadot',\n",
       " 'terra-usd',\n",
       " 'avalanche',\n",
       " 'binance-usd',\n",
       " 'shiba-inu',\n",
       " 'wrapped-bitcoin',\n",
       " 'lido-staked-ether',\n",
       " 'cronos',\n",
       " 'dai',\n",
       " 'polygon',\n",
       " 'near',\n",
       " 'litecoin',\n",
       " 'bonded-luna',\n",
       " 'tron',\n",
       " 'apecoin',\n",
       " 'cosmos-hub',\n",
       " 'chainlink',\n",
       " 'bitcoin-cash',\n",
       " 'ftx-token',\n",
       " 'leo-token',\n",
       " 'okb',\n",
       " 'algorand',\n",
       " 'stellar',\n",
       " 'monero',\n",
       " 'ethereum-classic',\n",
       " 'uniswap',\n",
       " 'filecoin',\n",
       " 'vechain',\n",
       " 'hedera',\n",
       " 'internet-computer',\n",
       " 'elrond',\n",
       " 'axie-infinity',\n",
       " 'the-sandbox',\n",
       " 'compound-ether',\n",
       " 'magic-internet-money',\n",
       " 'theta-network',\n",
       " 'frax',\n",
       " 'decentraland',\n",
       " 'tezos',\n",
       " 'the-graph',\n",
       " 'fantom',\n",
       " 'klaytn',\n",
       " 'pancakeswap',\n",
       " 'eos',\n",
       " 'defichain',\n",
       " 'aave',\n",
       " 'thorchain',\n",
       " 'stepn',\n",
       " 'kucoin-shares',\n",
       " 'flow',\n",
       " 'theta-fuel',\n",
       " 'zcash',\n",
       " 'iota',\n",
       " 'bittorrent',\n",
       " 'convex-finance',\n",
       " 'frax-share',\n",
       " 'helium',\n",
       " 'osmosis',\n",
       " 'huobi-btc',\n",
       " 'compound-usd-coin',\n",
       " 'waves',\n",
       " 'ecash',\n",
       " 'bitcoin-sv',\n",
       " 'huobi-token',\n",
       " 'maker',\n",
       " 'chain',\n",
       " 'kusama',\n",
       " 'true-usd',\n",
       " 'compound-dai',\n",
       " 'quant',\n",
       " 'neo',\n",
       " 'arweave',\n",
       " 'zilliqa',\n",
       " 'gala',\n",
       " 'synthetix-network-token',\n",
       " 'nexo',\n",
       " 'radix',\n",
       " 'celo',\n",
       " 'enjin-coin',\n",
       " 'harmony',\n",
       " 'bitdao',\n",
       " 'lido-dao',\n",
       " 'stacks',\n",
       " 'chiliz',\n",
       " 'dash',\n",
       " 'loopring',\n",
       " 'maiar-dex',\n",
       " 'pax-dollar',\n",
       " 'kava',\n",
       " 'amp']"
      ]
     },
     "execution_count": 10,
     "metadata": {},
     "output_type": "execute_result"
    }
   ],
   "source": [
    "coins"
   ]
  },
  {
   "cell_type": "code",
   "execution_count": 24,
   "metadata": {},
   "outputs": [
    {
     "name": "stderr",
     "output_type": "stream",
     "text": [
      "\n",
      "\n",
      "====== WebDriver manager ======\n",
      "Current google-chrome version is 100.0.4896\n",
      "Get LATEST chromedriver version for 100.0.4896 google-chrome\n",
      "Trying to download new driver from https://chromedriver.storage.googleapis.com/100.0.4896.60/chromedriver_win32.zip\n",
      "Driver has been saved in cache [C:\\Users\\DELL\\.wdm\\drivers\\chromedriver\\win32\\100.0.4896.60]\n",
      "C:\\Users\\DELL\\AppData\\Local\\Temp/ipykernel_3280/1055436504.py:4: DeprecationWarning: executable_path has been deprecated, please pass in a Service object\n",
      "  driver1 = webdriver.Chrome(ChromeDriverManager().install())\n"
     ]
    }
   ],
   "source": [
    "from selenium import webdriver\n",
    "from webdriver_manager.chrome import ChromeDriverManager\n",
    "\n",
    "driver1 = webdriver.Chrome(ChromeDriverManager().install())"
   ]
  },
  {
   "cell_type": "code",
   "execution_count": 38,
   "metadata": {},
   "outputs": [
    {
     "name": "stderr",
     "output_type": "stream",
     "text": [
      "\n",
      "\n",
      "====== WebDriver manager ======\n",
      "Current google-chrome version is 100.0.4896\n",
      "Get LATEST chromedriver version for 100.0.4896 google-chrome\n",
      "Trying to download new driver from https://chromedriver.storage.googleapis.com/100.0.4896.60/chromedriver_win32.zip\n",
      "Driver has been saved in cache [C:\\Users\\DELL\\.wdm\\drivers\\chromedriver\\win32\\100.0.4896.60]\n",
      "C:\\Users\\DELL\\AppData\\Local\\Temp/ipykernel_3280/3586788118.py:7: DeprecationWarning: executable_path has been deprecated, please pass in a Service object\n",
      "  driver1 = webdriver.Chrome(ChromeDriverManager().install())\n",
      "\n",
      "\n",
      "====== WebDriver manager ======\n",
      "Current google-chrome version is 100.0.4896\n",
      "Get LATEST chromedriver version for 100.0.4896 google-chrome\n",
      "Trying to download new driver from https://chromedriver.storage.googleapis.com/100.0.4896.60/chromedriver_win32.zip\n",
      "Driver has been saved in cache [C:\\Users\\DELL\\.wdm\\drivers\\chromedriver\\win32\\100.0.4896.60]\n"
     ]
    }
   ],
   "source": [
    "data = []\n",
    "\n",
    "for coin in coins[:2]:\n",
    "    from selenium import webdriver\n",
    "    from webdriver_manager.chrome import ChromeDriverManager\n",
    "\n",
    "    driver1 = webdriver.Chrome(ChromeDriverManager().install())\n",
    "    # luanch a chrome instance\n",
    "    #driver=webdriver.Chrome(r'C:\\Users\\kiran kumar\\chromedriver_win32\\chromedriver.exe')\n",
    "    link1 = 'https://www.coingecko.com/en/coins/{}/historical_data#panel'.format(coin)\n",
    "    driver1.get(link1)\n",
    "    driver1.maximize_window() # maximize the window\n",
    "    sleep(2) # wait for the page to load\n",
    "    \n",
    "        # Load the HTML of the page\n",
    "    html1 = driver1.page_source\n",
    "    soup1 = BeautifulSoup(html1, \"html.parser\")\n",
    "    for i in soup1.find_all('td'):\n",
    "        data.append(i.text)"
   ]
  },
  {
   "cell_type": "code",
   "execution_count": 39,
   "metadata": {},
   "outputs": [
    {
     "data": {
      "text/plain": [
       "248"
      ]
     },
     "execution_count": 39,
     "metadata": {},
     "output_type": "execute_result"
    }
   ],
   "source": [
    "len(data)"
   ]
  },
  {
   "cell_type": "code",
   "execution_count": 26,
   "metadata": {},
   "outputs": [],
   "source": [
    "# Load the HTML of the page\n",
    "html1 = driver1.page_source\n",
    "soup1 = BeautifulSoup(html1, \"html.parser\")"
   ]
  },
  {
   "cell_type": "code",
   "execution_count": 29,
   "metadata": {},
   "outputs": [
    {
     "name": "stdout",
     "output_type": "stream",
     "text": [
      "\n",
      "\n",
      "Date\n",
      "Market Cap\n",
      "Volume\n",
      "Open\n",
      "Close\n",
      "\n",
      "\n"
     ]
    }
   ],
   "source": [
    "for i in soup1.find_all('thead'):\n",
    "    print(i.text)"
   ]
  },
  {
   "cell_type": "code",
   "execution_count": 33,
   "metadata": {},
   "outputs": [],
   "source": [
    "data = []\n",
    "for i in soup1.find_all('td'):\n",
    "    data.append(i.text)"
   ]
  },
  {
   "cell_type": "code",
   "execution_count": 37,
   "metadata": {},
   "outputs": [
    {
     "data": {
      "text/plain": [
       "124"
      ]
     },
     "execution_count": 37,
     "metadata": {},
     "output_type": "execute_result"
    }
   ],
   "source": [
    "len(data)"
   ]
  },
  {
   "cell_type": "code",
   "execution_count": 18,
   "metadata": {},
   "outputs": [
    {
     "data": {
      "text/plain": [
       "<Response [200]>"
      ]
     },
     "execution_count": 18,
     "metadata": {},
     "output_type": "execute_result"
    }
   ],
   "source": [
    "import requests\n",
    "url = requests.get(\"https://www.99acres.com/search/property/buy/hyderabad?city=269&preference=S&area_unit=1&res_com=R\")\n",
    "url"
   ]
  },
  {
   "cell_type": "code",
   "execution_count": null,
   "metadata": {},
   "outputs": [],
   "source": []
  },
  {
   "cell_type": "code",
   "execution_count": null,
   "metadata": {},
   "outputs": [],
   "source": []
  },
  {
   "cell_type": "code",
   "execution_count": null,
   "metadata": {},
   "outputs": [],
   "source": []
  }
 ],
 "metadata": {
  "kernelspec": {
   "display_name": "Python 3 (ipykernel)",
   "language": "python",
   "name": "python3"
  },
  "language_info": {
   "codemirror_mode": {
    "name": "ipython",
    "version": 3
   },
   "file_extension": ".py",
   "mimetype": "text/x-python",
   "name": "python",
   "nbconvert_exporter": "python",
   "pygments_lexer": "ipython3",
   "version": "3.9.7"
  }
 },
 "nbformat": 4,
 "nbformat_minor": 2
}
